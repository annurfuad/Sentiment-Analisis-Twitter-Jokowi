{
 "cells": [
  {
   "cell_type": "code",
   "execution_count": 1,
   "metadata": {},
   "outputs": [],
   "source": [
    "# General:\n",
    "import tweepy           # To consume Twitter's API\n",
    "import pandas as pd     # To handle data\n",
    "import numpy as np      # For number computing\n",
    "\n",
    "# For plotting and visualization:\n",
    "from IPython.display import display\n",
    "import matplotlib.pyplot as plt\n",
    "import seaborn as sns\n",
    "\n",
    "\n",
    "# We import our access keys:\n",
    "from credentials import *    # This will allow us to use the keys as variables"
   ]
  },
  {
   "cell_type": "code",
   "execution_count": 2,
   "metadata": {},
   "outputs": [],
   "source": [
    "# API's setup:\n",
    "def twitter_setup():\n",
    "    \"\"\"\n",
    "    Utility function to setup the Twitter's API\n",
    "    with our access keys provided.\n",
    "    \"\"\"\n",
    "    # Authentication and access using keys:\n",
    "    auth = tweepy.OAuthHandler(CONSUMER_KEY, CONSUMER_SECRET)\n",
    "    auth.set_access_token(ACCESS_TOKEN, ACCESS_SECRET)\n",
    "\n",
    "    # Return API with authentication:\n",
    "    api = tweepy.API(auth)\n",
    "    return api\n",
    "\n",
    "    # We create an extractor object:\n",
    "extractor = twitter_setup()"
   ]
  },
  {
   "cell_type": "code",
   "execution_count": 3,
   "metadata": {},
   "outputs": [
    {
     "name": "stdout",
     "output_type": "stream",
     "text": [
      "Number of tweets extracted: 200.\n",
      "\n",
      "5 recent tweets:\n",
      "\n",
      "Bocah kecil pemberani ini saya temui di lokasi pengungsian di kota Palu. Ibunya meninggal, ayahnya dirawat karena l… https://t.co/Z4JQi1cQgf\n",
      "\n",
      "Area bekas permukiman warga di Petobo, Palu. Proses evakuasi, pembersihan, dan pencarian korban di Palu telah berja… https://t.co/qvOHQXVa5E\n",
      "\n",
      "Yang terpenting dalam situasi pascabencana adalah penanganan cepat! Untuk itu, saya telah menunjuk Bapak Jusuf Kall… https://t.co/AlJSsqOikK\n",
      "\n",
      "Melepas kontingen Indonesia yang akan turun berlaga di Asian Para Games 2018 di Jakarta. Sebagai tuan rumah, Indone… https://t.co/Tce67wE2Hc\n",
      "\n",
      "Raja Arab Saudi Salman bin Abdulaziz menelepon saya, berbelasungkawa atas bencana gempa bumi dan tsunami di Sulawes… https://t.co/LlYqmbTmwy\n",
      "\n"
     ]
    }
   ],
   "source": [
    "# We create a tweet list as follows:\n",
    "tweets = extractor.user_timeline(screen_name=\"Jokowi\", count=200)\n",
    "print(\"Number of tweets extracted: {}.\\n\".format(len(tweets)))\n",
    "\n",
    "# We print the most recent 5 tweets:\n",
    "print(\"5 recent tweets:\\n\")\n",
    "for tweet in tweets[:5]:\n",
    "    print(tweet.text)\n",
    "    print()"
   ]
  },
  {
   "cell_type": "code",
   "execution_count": 4,
   "metadata": {},
   "outputs": [
    {
     "data": {
      "text/html": [
       "<div>\n",
       "<style scoped>\n",
       "    .dataframe tbody tr th:only-of-type {\n",
       "        vertical-align: middle;\n",
       "    }\n",
       "\n",
       "    .dataframe tbody tr th {\n",
       "        vertical-align: top;\n",
       "    }\n",
       "\n",
       "    .dataframe thead th {\n",
       "        text-align: right;\n",
       "    }\n",
       "</style>\n",
       "<table border=\"1\" class=\"dataframe\">\n",
       "  <thead>\n",
       "    <tr style=\"text-align: right;\">\n",
       "      <th></th>\n",
       "      <th>Tweets</th>\n",
       "    </tr>\n",
       "  </thead>\n",
       "  <tbody>\n",
       "    <tr>\n",
       "      <th>0</th>\n",
       "      <td>Bocah kecil pemberani ini saya temui di lokasi...</td>\n",
       "    </tr>\n",
       "    <tr>\n",
       "      <th>1</th>\n",
       "      <td>Area bekas permukiman warga di Petobo, Palu. P...</td>\n",
       "    </tr>\n",
       "    <tr>\n",
       "      <th>2</th>\n",
       "      <td>Yang terpenting dalam situasi pascabencana ada...</td>\n",
       "    </tr>\n",
       "    <tr>\n",
       "      <th>3</th>\n",
       "      <td>Melepas kontingen Indonesia yang akan turun be...</td>\n",
       "    </tr>\n",
       "    <tr>\n",
       "      <th>4</th>\n",
       "      <td>Raja Arab Saudi Salman bin Abdulaziz menelepon...</td>\n",
       "    </tr>\n",
       "    <tr>\n",
       "      <th>5</th>\n",
       "      <td>Memimpin upacara Peringatan Hari Kesaktian Pan...</td>\n",
       "    </tr>\n",
       "    <tr>\n",
       "      <th>6</th>\n",
       "      <td>Seharian meninjau sejumlah titik di Kota Palu,...</td>\n",
       "    </tr>\n",
       "    <tr>\n",
       "      <th>7</th>\n",
       "      <td>Duka rakyat Sulawesi Tengah, duka kita semua. ...</td>\n",
       "    </tr>\n",
       "    <tr>\n",
       "      <th>8</th>\n",
       "      <td>Puing-puing bangunan Perumnas Balaroa di Palu ...</td>\n",
       "    </tr>\n",
       "    <tr>\n",
       "      <th>9</th>\n",
       "      <td>Bertolak dari Pangkalan TNI AU Adi Soemarmo, S...</td>\n",
       "    </tr>\n",
       "  </tbody>\n",
       "</table>\n",
       "</div>"
      ],
      "text/plain": [
       "                                              Tweets\n",
       "0  Bocah kecil pemberani ini saya temui di lokasi...\n",
       "1  Area bekas permukiman warga di Petobo, Palu. P...\n",
       "2  Yang terpenting dalam situasi pascabencana ada...\n",
       "3  Melepas kontingen Indonesia yang akan turun be...\n",
       "4  Raja Arab Saudi Salman bin Abdulaziz menelepon...\n",
       "5  Memimpin upacara Peringatan Hari Kesaktian Pan...\n",
       "6  Seharian meninjau sejumlah titik di Kota Palu,...\n",
       "7  Duka rakyat Sulawesi Tengah, duka kita semua. ...\n",
       "8  Puing-puing bangunan Perumnas Balaroa di Palu ...\n",
       "9  Bertolak dari Pangkalan TNI AU Adi Soemarmo, S..."
      ]
     },
     "metadata": {},
     "output_type": "display_data"
    }
   ],
   "source": [
    "# We create a pandas dataframe as follows:\n",
    "data = pd.DataFrame(data=[tweet.text for tweet in tweets], columns=['Tweets'])\n",
    "\n",
    "# We display the first 10 elements of the dataframe:\n",
    "display(data.head(10))\n"
   ]
  },
  {
   "cell_type": "code",
   "execution_count": 5,
   "metadata": {},
   "outputs": [
    {
     "name": "stdout",
     "output_type": "stream",
     "text": [
      "['__class__', '__delattr__', '__dict__', '__dir__', '__doc__', '__eq__', '__format__', '__ge__', '__getattribute__', '__getstate__', '__gt__', '__hash__', '__init__', '__init_subclass__', '__le__', '__lt__', '__module__', '__ne__', '__new__', '__reduce__', '__reduce_ex__', '__repr__', '__setattr__', '__sizeof__', '__str__', '__subclasshook__', '__weakref__', '_api', '_json', 'author', 'contributors', 'coordinates', 'created_at', 'destroy', 'entities', 'favorite', 'favorite_count', 'favorited', 'geo', 'id', 'id_str', 'in_reply_to_screen_name', 'in_reply_to_status_id', 'in_reply_to_status_id_str', 'in_reply_to_user_id', 'in_reply_to_user_id_str', 'is_quote_status', 'lang', 'parse', 'parse_list', 'place', 'possibly_sensitive', 'retweet', 'retweet_count', 'retweeted', 'retweets', 'source', 'source_url', 'text', 'truncated', 'user']\n"
     ]
    }
   ],
   "source": [
    "# Internal methods of a single tweet object:\n",
    "print(dir(tweets[0]))"
   ]
  },
  {
   "cell_type": "code",
   "execution_count": 6,
   "metadata": {},
   "outputs": [
    {
     "ename": "SyntaxError",
     "evalue": "invalid syntax (<ipython-input-6-4d02498fee46>, line 1)",
     "output_type": "error",
     "traceback": [
      "\u001b[0;36m  File \u001b[0;32m\"<ipython-input-6-4d02498fee46>\"\u001b[0;36m, line \u001b[0;32m1\u001b[0m\n\u001b[0;31m    We print info from the first tweet:\u001b[0m\n\u001b[0m           ^\u001b[0m\n\u001b[0;31mSyntaxError\u001b[0m\u001b[0;31m:\u001b[0m invalid syntax\n"
     ]
    }
   ],
   "source": [
    " We print info from the first tweet:\n",
    "print(tweets[0].id)\n",
    "print(tweets[0].created_at)\n",
    "print(tweets[0].source)\n",
    "print(tweets[0].favorite_count)\n",
    "print(tweets[0].retweet_count)\n",
    "print(tweets[0].geo)\n",
    "print(tweets[0].coordinates)\n",
    "print(tweets[0].entities)"
   ]
  },
  {
   "cell_type": "code",
   "execution_count": 7,
   "metadata": {},
   "outputs": [
    {
     "name": "stdout",
     "output_type": "stream",
     "text": [
      "1047493968924094467\n",
      "2018-10-03 14:29:58\n",
      "Twitter for Android\n",
      "6981\n",
      "4049\n",
      "None\n",
      "None\n",
      "{'hashtags': [], 'symbols': [], 'user_mentions': [], 'urls': [{'url': 'https://t.co/Z4JQi1cQgf', 'expanded_url': 'https://twitter.com/i/web/status/1047493968924094467', 'display_url': 'twitter.com/i/web/status/1…', 'indices': [117, 140]}]}\n"
     ]
    }
   ],
   "source": [
    "# We print info from the first tweet:\n",
    "print(tweets[0].id)\n",
    "print(tweets[0].created_at)\n",
    "print(tweets[0].source)\n",
    "print(tweets[0].favorite_count)\n",
    "print(tweets[0].retweet_count)\n",
    "print(tweets[0].geo)\n",
    "print(tweets[0].coordinates)\n",
    "print(tweets[0].entities)"
   ]
  },
  {
   "cell_type": "code",
   "execution_count": 8,
   "metadata": {},
   "outputs": [
    {
     "data": {
      "text/html": [
       "<div>\n",
       "<style scoped>\n",
       "    .dataframe tbody tr th:only-of-type {\n",
       "        vertical-align: middle;\n",
       "    }\n",
       "\n",
       "    .dataframe tbody tr th {\n",
       "        vertical-align: top;\n",
       "    }\n",
       "\n",
       "    .dataframe thead th {\n",
       "        text-align: right;\n",
       "    }\n",
       "</style>\n",
       "<table border=\"1\" class=\"dataframe\">\n",
       "  <thead>\n",
       "    <tr style=\"text-align: right;\">\n",
       "      <th></th>\n",
       "      <th>Tweets</th>\n",
       "      <th>len</th>\n",
       "      <th>ID</th>\n",
       "      <th>Date</th>\n",
       "      <th>Source</th>\n",
       "      <th>Likes</th>\n",
       "      <th>RTs</th>\n",
       "    </tr>\n",
       "  </thead>\n",
       "  <tbody>\n",
       "    <tr>\n",
       "      <th>0</th>\n",
       "      <td>Bocah kecil pemberani ini saya temui di lokasi...</td>\n",
       "      <td>140</td>\n",
       "      <td>1047493968924094467</td>\n",
       "      <td>2018-10-03 14:29:58</td>\n",
       "      <td>Twitter for Android</td>\n",
       "      <td>6981</td>\n",
       "      <td>4049</td>\n",
       "    </tr>\n",
       "    <tr>\n",
       "      <th>1</th>\n",
       "      <td>Area bekas permukiman warga di Petobo, Palu. P...</td>\n",
       "      <td>140</td>\n",
       "      <td>1047415436122279936</td>\n",
       "      <td>2018-10-03 09:17:54</td>\n",
       "      <td>Twitter for Android</td>\n",
       "      <td>7442</td>\n",
       "      <td>2730</td>\n",
       "    </tr>\n",
       "    <tr>\n",
       "      <th>2</th>\n",
       "      <td>Yang terpenting dalam situasi pascabencana ada...</td>\n",
       "      <td>140</td>\n",
       "      <td>1047313446675464193</td>\n",
       "      <td>2018-10-03 02:32:38</td>\n",
       "      <td>Twitter for Android</td>\n",
       "      <td>6855</td>\n",
       "      <td>1969</td>\n",
       "    </tr>\n",
       "    <tr>\n",
       "      <th>3</th>\n",
       "      <td>Melepas kontingen Indonesia yang akan turun be...</td>\n",
       "      <td>140</td>\n",
       "      <td>1047065303694413827</td>\n",
       "      <td>2018-10-02 10:06:36</td>\n",
       "      <td>Twitter for Android</td>\n",
       "      <td>6851</td>\n",
       "      <td>1894</td>\n",
       "    </tr>\n",
       "    <tr>\n",
       "      <th>4</th>\n",
       "      <td>Raja Arab Saudi Salman bin Abdulaziz menelepon...</td>\n",
       "      <td>140</td>\n",
       "      <td>1046935259709763584</td>\n",
       "      <td>2018-10-02 01:29:51</td>\n",
       "      <td>Twitter for Android</td>\n",
       "      <td>20370</td>\n",
       "      <td>7875</td>\n",
       "    </tr>\n",
       "    <tr>\n",
       "      <th>5</th>\n",
       "      <td>Memimpin upacara Peringatan Hari Kesaktian Pan...</td>\n",
       "      <td>140</td>\n",
       "      <td>1046695308460089344</td>\n",
       "      <td>2018-10-01 09:36:22</td>\n",
       "      <td>Twitter for Android</td>\n",
       "      <td>6443</td>\n",
       "      <td>1665</td>\n",
       "    </tr>\n",
       "    <tr>\n",
       "      <th>6</th>\n",
       "      <td>Seharian meninjau sejumlah titik di Kota Palu,...</td>\n",
       "      <td>140</td>\n",
       "      <td>1046605977359769600</td>\n",
       "      <td>2018-10-01 03:41:24</td>\n",
       "      <td>Twitter for Android</td>\n",
       "      <td>12735</td>\n",
       "      <td>5309</td>\n",
       "    </tr>\n",
       "    <tr>\n",
       "      <th>7</th>\n",
       "      <td>Duka rakyat Sulawesi Tengah, duka kita semua. ...</td>\n",
       "      <td>140</td>\n",
       "      <td>1046398953124560896</td>\n",
       "      <td>2018-09-30 13:58:46</td>\n",
       "      <td>Twitter for Android</td>\n",
       "      <td>17022</td>\n",
       "      <td>6671</td>\n",
       "    </tr>\n",
       "    <tr>\n",
       "      <th>8</th>\n",
       "      <td>Puing-puing bangunan Perumnas Balaroa di Palu ...</td>\n",
       "      <td>140</td>\n",
       "      <td>1046310485665050624</td>\n",
       "      <td>2018-09-30 08:07:13</td>\n",
       "      <td>Twitter for Android</td>\n",
       "      <td>9601</td>\n",
       "      <td>3011</td>\n",
       "    </tr>\n",
       "    <tr>\n",
       "      <th>9</th>\n",
       "      <td>Bertolak dari Pangkalan TNI AU Adi Soemarmo, S...</td>\n",
       "      <td>140</td>\n",
       "      <td>1046252996428886019</td>\n",
       "      <td>2018-09-30 04:18:47</td>\n",
       "      <td>Twitter for Android</td>\n",
       "      <td>17131</td>\n",
       "      <td>5506</td>\n",
       "    </tr>\n",
       "  </tbody>\n",
       "</table>\n",
       "</div>"
      ],
      "text/plain": [
       "                                              Tweets  len  \\\n",
       "0  Bocah kecil pemberani ini saya temui di lokasi...  140   \n",
       "1  Area bekas permukiman warga di Petobo, Palu. P...  140   \n",
       "2  Yang terpenting dalam situasi pascabencana ada...  140   \n",
       "3  Melepas kontingen Indonesia yang akan turun be...  140   \n",
       "4  Raja Arab Saudi Salman bin Abdulaziz menelepon...  140   \n",
       "5  Memimpin upacara Peringatan Hari Kesaktian Pan...  140   \n",
       "6  Seharian meninjau sejumlah titik di Kota Palu,...  140   \n",
       "7  Duka rakyat Sulawesi Tengah, duka kita semua. ...  140   \n",
       "8  Puing-puing bangunan Perumnas Balaroa di Palu ...  140   \n",
       "9  Bertolak dari Pangkalan TNI AU Adi Soemarmo, S...  140   \n",
       "\n",
       "                    ID                Date               Source  Likes   RTs  \n",
       "0  1047493968924094467 2018-10-03 14:29:58  Twitter for Android   6981  4049  \n",
       "1  1047415436122279936 2018-10-03 09:17:54  Twitter for Android   7442  2730  \n",
       "2  1047313446675464193 2018-10-03 02:32:38  Twitter for Android   6855  1969  \n",
       "3  1047065303694413827 2018-10-02 10:06:36  Twitter for Android   6851  1894  \n",
       "4  1046935259709763584 2018-10-02 01:29:51  Twitter for Android  20370  7875  \n",
       "5  1046695308460089344 2018-10-01 09:36:22  Twitter for Android   6443  1665  \n",
       "6  1046605977359769600 2018-10-01 03:41:24  Twitter for Android  12735  5309  \n",
       "7  1046398953124560896 2018-09-30 13:58:46  Twitter for Android  17022  6671  \n",
       "8  1046310485665050624 2018-09-30 08:07:13  Twitter for Android   9601  3011  \n",
       "9  1046252996428886019 2018-09-30 04:18:47  Twitter for Android  17131  5506  "
      ]
     },
     "metadata": {},
     "output_type": "display_data"
    }
   ],
   "source": [
    "# We add relevant data:\n",
    "data['len']  = np.array([len(tweet.text) for tweet in tweets])\n",
    "data['ID']   = np.array([tweet.id for tweet in tweets])\n",
    "data['Date'] = np.array([tweet.created_at for tweet in tweets])\n",
    "data['Source'] = np.array([tweet.source for tweet in tweets])\n",
    "data['Likes']  = np.array([tweet.favorite_count for tweet in tweets])\n",
    "data['RTs']    = np.array([tweet.retweet_count for tweet in tweets])\n",
    "\n",
    "# Display of first 10 elements from dataframe:\n",
    "display(data.head(10))\n"
   ]
  },
  {
   "cell_type": "code",
   "execution_count": 9,
   "metadata": {},
   "outputs": [
    {
     "name": "stdout",
     "output_type": "stream",
     "text": [
      "The lenght's average in tweets: 138.51\n"
     ]
    }
   ],
   "source": [
    "# We extract the mean of lenghts:\n",
    "mean = np.mean(data['len'])\n",
    "\n",
    "print(\"The lenght's average in tweets: {}\".format(mean))\n"
   ]
  },
  {
   "cell_type": "code",
   "execution_count": 10,
   "metadata": {},
   "outputs": [
    {
     "name": "stdout",
     "output_type": "stream",
     "text": [
      "The tweet with more likes is: \n",
      "Usai merebut medali emas, pesilat Hanifan Yudani Kusumah berlari keliling lalu naik ke tempat saya duduk bersama Ke… https://t.co/L9PFzRaA0y\n",
      "Number of likes: 49430\n",
      "140 characters.\n",
      "\n",
      "The tweet with more retweets is: \n",
      "Usai merebut medali emas, pesilat Hanifan Yudani Kusumah berlari keliling lalu naik ke tempat saya duduk bersama Ke… https://t.co/L9PFzRaA0y\n",
      "Number of retweets: 31004\n",
      "140 characters.\n",
      "\n"
     ]
    }
   ],
   "source": [
    "# We extract the tweet with more FAVs and more RTs:\n",
    "\n",
    "fav_max = np.max(data['Likes'])\n",
    "rt_max  = np.max(data['RTs'])\n",
    "\n",
    "fav = data[data.Likes == fav_max].index[0]\n",
    "rt  = data[data.RTs == rt_max].index[0]\n",
    "\n",
    "# Max FAVs:\n",
    "print(\"The tweet with more likes is: \\n{}\".format(data['Tweets'][fav]))\n",
    "print(\"Number of likes: {}\".format(fav_max))\n",
    "print(\"{} characters.\\n\".format(data['len'][fav]))\n",
    "\n",
    "# Max RTs:\n",
    "print(\"The tweet with more retweets is: \\n{}\".format(data['Tweets'][rt]))\n",
    "print(\"Number of retweets: {}\".format(rt_max))\n",
    "print(\"{} characters.\\n\".format(data['len'][rt]))"
   ]
  },
  {
   "cell_type": "code",
   "execution_count": 11,
   "metadata": {},
   "outputs": [],
   "source": [
    "# We create time series for data:\n",
    "\n",
    "tlen = pd.Series(data=data['len'].values, index=data['Date'])\n",
    "tfav = pd.Series(data=data['Likes'].values, index=data['Date'])\n",
    "tret = pd.Series(data=data['RTs'].values, index=data['Date'])"
   ]
  },
  {
   "cell_type": "code",
   "execution_count": 12,
   "metadata": {},
   "outputs": [
    {
     "data": {
      "text/plain": [
       "<matplotlib.axes._subplots.AxesSubplot at 0x7f9101ff3358>"
      ]
     },
     "execution_count": 12,
     "metadata": {},
     "output_type": "execute_result"
    },
    {
     "data": {
      "image/png": "[encoded data removed]",
      "text/plain": [
       "<Figure size 1152x288 with 1 Axes>"
      ]
     },
     "metadata": {},
     "output_type": "display_data"
    }
   ],
   "source": [
    "# Lenghts along time:\n",
    "tlen.plot(figsize=(16,4), color='r')"
   ]
  },
  {
   "cell_type": "code",
   "execution_count": 13,
   "metadata": {},
   "outputs": [
    {
     "data": {
      "image/png": "[encoded data removed]",
      "text/plain": [
       "<Figure size 1152x288 with 1 Axes>"
      ]
     },
     "metadata": {},
     "output_type": "display_data"
    }
   ],
   "source": [
    "# Likes vs retweets visualization:\n",
    "tfav.plot(figsize=(16,4), label=\"Likes\", legend=True)\n",
    "tret.plot(figsize=(16,4), label=\"Retweets\", legend=True);\n"
   ]
  },
  {
   "cell_type": "code",
   "execution_count": 14,
   "metadata": {},
   "outputs": [
    {
     "name": "stdout",
     "output_type": "stream",
     "text": [
      "Creation of content sources:\n",
      "* Twitter for Android\n",
      "* Twitter Web Client\n"
     ]
    }
   ],
   "source": [
    "# We obtain all possible sources:\n",
    "sources = []\n",
    "for source in data['Source']:\n",
    "    if source not in sources:\n",
    "        sources.append(source)\n",
    "\n",
    "# We print sources list:\n",
    "print(\"Creation of content sources:\")\n",
    "for source in sources:\n",
    "    print(\"* {}\".format(source))\n"
   ]
  },
  {
   "cell_type": "code",
   "execution_count": 15,
   "metadata": {},
   "outputs": [
    {
     "data": {
      "image/png": "[encoded data removed]",
      "text/plain": [
       "<Figure size 432x432 with 1 Axes>"
      ]
     },
     "metadata": {},
     "output_type": "display_data"
    }
   ],
   "source": [
    "# We create a numpy vector mapped to labels:\n",
    "percent = np.zeros(len(sources))\n",
    "\n",
    "for source in data['Source']:\n",
    "    for index in range(len(sources)):\n",
    "        if source == sources[index]:\n",
    "            percent[index] += 1\n",
    "            pass\n",
    "\n",
    "percent /= 100\n",
    "\n",
    "# Pie chart:\n",
    "pie_chart = pd.Series(percent, index=sources, name='Sources')\n",
    "pie_chart.plot.pie(fontsize=11, autopct='%.2f', figsize=(6, 6));\n"
   ]
  },
  {
   "cell_type": "code",
   "execution_count": 16,
   "metadata": {},
   "outputs": [],
   "source": [
    "from textblob import TextBlob\n",
    "import re\n",
    "\n",
    "def clean_tweet(tweet):\n",
    "    '''\n",
    "    Utility function to clean the text in a tweet by removing \n",
    "    links and special characters using regex.\n",
    "    '''\n",
    "    return ' '.join(re.sub(\"(@[A-Za-z0-9]+)|([^0-9A-Za-z \\t])|(\\w+:\\/\\/\\S+)\", \" \", tweet).split())\n",
    "\n",
    "def analize_sentiment(tweet):\n",
    "    '''\n",
    "    Utility function to classify the polarity of a tweet\n",
    "    using textblob.\n",
    "    '''\n",
    "    analysis = TextBlob(clean_tweet(tweet))\n",
    "    if analysis.sentiment.polarity > 0:\n",
    "        return 1\n",
    "    elif analysis.sentiment.polarity == 0:\n",
    "        return 0\n",
    "    else:\n",
    "        return -1\n"
   ]
  },
  {
   "cell_type": "code",
   "execution_count": 17,
   "metadata": {},
   "outputs": [
    {
     "data": {
      "text/html": [
       "<div>\n",
       "<style scoped>\n",
       "    .dataframe tbody tr th:only-of-type {\n",
       "        vertical-align: middle;\n",
       "    }\n",
       "\n",
       "    .dataframe tbody tr th {\n",
       "        vertical-align: top;\n",
       "    }\n",
       "\n",
       "    .dataframe thead th {\n",
       "        text-align: right;\n",
       "    }\n",
       "</style>\n",
       "<table border=\"1\" class=\"dataframe\">\n",
       "  <thead>\n",
       "    <tr style=\"text-align: right;\">\n",
       "      <th></th>\n",
       "      <th>Tweets</th>\n",
       "      <th>len</th>\n",
       "      <th>ID</th>\n",
       "      <th>Date</th>\n",
       "      <th>Source</th>\n",
       "      <th>Likes</th>\n",
       "      <th>RTs</th>\n",
       "      <th>SA</th>\n",
       "    </tr>\n",
       "  </thead>\n",
       "  <tbody>\n",
       "    <tr>\n",
       "      <th>0</th>\n",
       "      <td>Bocah kecil pemberani ini saya temui di lokasi...</td>\n",
       "      <td>140</td>\n",
       "      <td>1047493968924094467</td>\n",
       "      <td>2018-10-03 14:29:58</td>\n",
       "      <td>Twitter for Android</td>\n",
       "      <td>6981</td>\n",
       "      <td>4049</td>\n",
       "      <td>0</td>\n",
       "    </tr>\n",
       "    <tr>\n",
       "      <th>1</th>\n",
       "      <td>Area bekas permukiman warga di Petobo, Palu. P...</td>\n",
       "      <td>140</td>\n",
       "      <td>1047415436122279936</td>\n",
       "      <td>2018-10-03 09:17:54</td>\n",
       "      <td>Twitter for Android</td>\n",
       "      <td>7442</td>\n",
       "      <td>2730</td>\n",
       "      <td>0</td>\n",
       "    </tr>\n",
       "    <tr>\n",
       "      <th>2</th>\n",
       "      <td>Yang terpenting dalam situasi pascabencana ada...</td>\n",
       "      <td>140</td>\n",
       "      <td>1047313446675464193</td>\n",
       "      <td>2018-10-03 02:32:38</td>\n",
       "      <td>Twitter for Android</td>\n",
       "      <td>6855</td>\n",
       "      <td>1969</td>\n",
       "      <td>0</td>\n",
       "    </tr>\n",
       "    <tr>\n",
       "      <th>3</th>\n",
       "      <td>Melepas kontingen Indonesia yang akan turun be...</td>\n",
       "      <td>140</td>\n",
       "      <td>1047065303694413827</td>\n",
       "      <td>2018-10-02 10:06:36</td>\n",
       "      <td>Twitter for Android</td>\n",
       "      <td>6851</td>\n",
       "      <td>1894</td>\n",
       "      <td>0</td>\n",
       "    </tr>\n",
       "    <tr>\n",
       "      <th>4</th>\n",
       "      <td>Raja Arab Saudi Salman bin Abdulaziz menelepon...</td>\n",
       "      <td>140</td>\n",
       "      <td>1046935259709763584</td>\n",
       "      <td>2018-10-02 01:29:51</td>\n",
       "      <td>Twitter for Android</td>\n",
       "      <td>20370</td>\n",
       "      <td>7875</td>\n",
       "      <td>0</td>\n",
       "    </tr>\n",
       "    <tr>\n",
       "      <th>5</th>\n",
       "      <td>Memimpin upacara Peringatan Hari Kesaktian Pan...</td>\n",
       "      <td>140</td>\n",
       "      <td>1046695308460089344</td>\n",
       "      <td>2018-10-01 09:36:22</td>\n",
       "      <td>Twitter for Android</td>\n",
       "      <td>6443</td>\n",
       "      <td>1665</td>\n",
       "      <td>0</td>\n",
       "    </tr>\n",
       "    <tr>\n",
       "      <th>6</th>\n",
       "      <td>Seharian meninjau sejumlah titik di Kota Palu,...</td>\n",
       "      <td>140</td>\n",
       "      <td>1046605977359769600</td>\n",
       "      <td>2018-10-01 03:41:24</td>\n",
       "      <td>Twitter for Android</td>\n",
       "      <td>12735</td>\n",
       "      <td>5309</td>\n",
       "      <td>0</td>\n",
       "    </tr>\n",
       "    <tr>\n",
       "      <th>7</th>\n",
       "      <td>Duka rakyat Sulawesi Tengah, duka kita semua. ...</td>\n",
       "      <td>140</td>\n",
       "      <td>1046398953124560896</td>\n",
       "      <td>2018-09-30 13:58:46</td>\n",
       "      <td>Twitter for Android</td>\n",
       "      <td>17022</td>\n",
       "      <td>6671</td>\n",
       "      <td>0</td>\n",
       "    </tr>\n",
       "    <tr>\n",
       "      <th>8</th>\n",
       "      <td>Puing-puing bangunan Perumnas Balaroa di Palu ...</td>\n",
       "      <td>140</td>\n",
       "      <td>1046310485665050624</td>\n",
       "      <td>2018-09-30 08:07:13</td>\n",
       "      <td>Twitter for Android</td>\n",
       "      <td>9601</td>\n",
       "      <td>3011</td>\n",
       "      <td>0</td>\n",
       "    </tr>\n",
       "    <tr>\n",
       "      <th>9</th>\n",
       "      <td>Bertolak dari Pangkalan TNI AU Adi Soemarmo, S...</td>\n",
       "      <td>140</td>\n",
       "      <td>1046252996428886019</td>\n",
       "      <td>2018-09-30 04:18:47</td>\n",
       "      <td>Twitter for Android</td>\n",
       "      <td>17131</td>\n",
       "      <td>5506</td>\n",
       "      <td>0</td>\n",
       "    </tr>\n",
       "  </tbody>\n",
       "</table>\n",
       "</div>"
      ],
      "text/plain": [
       "                                              Tweets  len  \\\n",
       "0  Bocah kecil pemberani ini saya temui di lokasi...  140   \n",
       "1  Area bekas permukiman warga di Petobo, Palu. P...  140   \n",
       "2  Yang terpenting dalam situasi pascabencana ada...  140   \n",
       "3  Melepas kontingen Indonesia yang akan turun be...  140   \n",
       "4  Raja Arab Saudi Salman bin Abdulaziz menelepon...  140   \n",
       "5  Memimpin upacara Peringatan Hari Kesaktian Pan...  140   \n",
       "6  Seharian meninjau sejumlah titik di Kota Palu,...  140   \n",
       "7  Duka rakyat Sulawesi Tengah, duka kita semua. ...  140   \n",
       "8  Puing-puing bangunan Perumnas Balaroa di Palu ...  140   \n",
       "9  Bertolak dari Pangkalan TNI AU Adi Soemarmo, S...  140   \n",
       "\n",
       "                    ID                Date               Source  Likes   RTs  \\\n",
       "0  1047493968924094467 2018-10-03 14:29:58  Twitter for Android   6981  4049   \n",
       "1  1047415436122279936 2018-10-03 09:17:54  Twitter for Android   7442  2730   \n",
       "2  1047313446675464193 2018-10-03 02:32:38  Twitter for Android   6855  1969   \n",
       "3  1047065303694413827 2018-10-02 10:06:36  Twitter for Android   6851  1894   \n",
       "4  1046935259709763584 2018-10-02 01:29:51  Twitter for Android  20370  7875   \n",
       "5  1046695308460089344 2018-10-01 09:36:22  Twitter for Android   6443  1665   \n",
       "6  1046605977359769600 2018-10-01 03:41:24  Twitter for Android  12735  5309   \n",
       "7  1046398953124560896 2018-09-30 13:58:46  Twitter for Android  17022  6671   \n",
       "8  1046310485665050624 2018-09-30 08:07:13  Twitter for Android   9601  3011   \n",
       "9  1046252996428886019 2018-09-30 04:18:47  Twitter for Android  17131  5506   \n",
       "\n",
       "   SA  \n",
       "0   0  \n",
       "1   0  \n",
       "2   0  \n",
       "3   0  \n",
       "4   0  \n",
       "5   0  \n",
       "6   0  \n",
       "7   0  \n",
       "8   0  \n",
       "9   0  "
      ]
     },
     "metadata": {},
     "output_type": "display_data"
    }
   ],
   "source": [
    "# We create a column with the result of the analysis:\n",
    "data['SA'] = np.array([ analize_sentiment(tweet) for tweet in data['Tweets'] ])\n",
    "\n",
    "# We display the updated dataframe with the new column:\n",
    "display(data.head(10))\n"
   ]
  },
  {
   "cell_type": "code",
   "execution_count": 18,
   "metadata": {},
   "outputs": [],
   "source": [
    "# We construct lists with classified tweets:\n",
    "\n",
    "pos_tweets = [ tweet for index, tweet in enumerate(data['Tweets']) if data['SA'][index] > 0]\n",
    "neu_tweets = [ tweet for index, tweet in enumerate(data['Tweets']) if data['SA'][index] == 0]\n",
    "neg_tweets = [ tweet for index, tweet in enumerate(data['Tweets']) if data['SA'][index] < 0]\n"
   ]
  },
  {
   "cell_type": "code",
   "execution_count": 19,
   "metadata": {},
   "outputs": [
    {
     "name": "stdout",
     "output_type": "stream",
     "text": [
      "Percentage of positive tweets: 2.0%\n",
      "Percentage of neutral tweets: 96.0%\n",
      "Percentage de negative tweets: 2.0%\n"
     ]
    }
   ],
   "source": [
    "# We print percentages:\n",
    "\n",
    "print(\"Percentage of positive tweets: {}%\".format(len(pos_tweets)*100/len(data['Tweets'])))\n",
    "print(\"Percentage of neutral tweets: {}%\".format(len(neu_tweets)*100/len(data['Tweets'])))\n",
    "print(\"Percentage de negative tweets: {}%\".format(len(neg_tweets)*100/len(data['Tweets'])))\n"
   ]
  },
  {
   "cell_type": "code",
   "execution_count": null,
   "metadata": {},
   "outputs": [],
   "source": []
  }
 ],
 "metadata": {
  "kernelspec": {
   "display_name": "Python 3",
   "language": "python",
   "name": "python3"
  },
  "language_info": {
   "codemirror_mode": {
    "name": "ipython",
    "version": 3
   },
   "file_extension": ".py",
   "mimetype": "text/x-python",
   "name": "python",
   "nbconvert_exporter": "python",
   "pygments_lexer": "ipython3",
   "version": "3.6.5"
  }
 },
 "nbformat": 4,
 "nbformat_minor": 2
}
